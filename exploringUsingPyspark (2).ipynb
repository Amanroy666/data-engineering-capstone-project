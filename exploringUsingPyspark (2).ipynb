{
 "cells": [
  {
   "cell_type": "code",
   "execution_count": 1,
   "metadata": {
    "editable": true
   },
   "outputs": [],
   "source": [
    "# https://spark.apache.org/docs/latest/api/python/pyspark.sql.html\n",
    "# http://spark.apache.org/docs/1.2.1/configuration.html\n",
    "from pyspark.sql import SparkSession, SQLContext, GroupedData, HiveContext\n",
    "from pyspark.sql.functions import *\n",
    "from pyspark.sql.functions import date_add as d_add\n",
    "from pyspark.sql.types import DoubleType\n",
    "from pyspark.sql.functions import year, month, dayofmonth, weekofyear, date_format\n",
    "from pyspark.sql import functions as F\n",
    "from pyspark.sql.functions import monotonically_increasing_id\n",
    "from pyspark.sql.functions import lit\n",
    "from pyspark.sql import Row\n",
    "# Increased memory\n",
    "spark = SparkSession.builder.\\\n",
    "config(\"spark.jars.packages\",\"saurfang:spark-sas7bdat:2.0.0-s_2.11\")\\\n",
    ".config(\"spark.python.worker.memory\", \"15g\") \\\n",
    ".enableHiveSupport().getOrCreate()\n",
    "df=spark.read.parquet(\"sas_data\")"
   ]
  },
  {
   "cell_type": "code",
   "execution_count": 2,
   "metadata": {
    "editable": true
   },
   "outputs": [],
   "source": [
    "# function to output the file as parquet\n",
    "output_path = \"output_data/\"\n",
    "def write_to_parquet(table, file_name):\n",
    "    \"\"\"\n",
    "    Write the table as parquet file\n",
    "    \n",
    "    Parameters:\n",
    "        table\n",
    "        Name of the file\n",
    "    Returns:\n",
    "        Outputs the table as parquet file to a folder\n",
    "    \"\"\"\n",
    "    # write artists table to parquet files\n",
    "    file_output = output_path + file_name\n",
    "    table.write.mode(\"overwrite\").parquet(file_output)\n",
    "    \n",
    "# https://stackoverflow.com/questions/39758045/how-to-perform-union-on-two-dataframes-with-different-amounts-of-columns-in-spar\n",
    "def customUnion(df1, df2):\n",
    "    \"\"\"\n",
    "    Combines two dataframes \n",
    "    \n",
    "    Parameters:\n",
    "         dataframe1\n",
    "         dataframe2\n",
    "     \n",
    "     Returns:\n",
    "         A combined dataframe\n",
    "    \"\"\"\n",
    "    cols1 = df1.columns\n",
    "    cols2 = df2.columns\n",
    "    total_cols = sorted(cols1 + list(set(cols2) - set(cols1)))\n",
    "    def expr(mycols, allcols):\n",
    "        def processCols(colname):\n",
    "            if colname in mycols:\n",
    "                return colname\n",
    "            else:\n",
    "                return lit(None).alias(colname)\n",
    "        cols = map(processCols, allcols)\n",
    "        return list(cols)\n",
    "    appended = df1.select(expr(cols1, total_cols)).union(df2.select(expr(cols2, total_cols)))\n",
    "    return appended"
   ]
  },
  {
   "cell_type": "code",
   "execution_count": 3,
   "metadata": {
    "editable": true
   },
   "outputs": [
    {
     "name": "stdout",
     "output_type": "stream",
     "text": [
      "Immigration_table schema:\n",
      "root\n",
      " |-- cicid: double (nullable = true)\n",
      " |-- i94yr: double (nullable = true)\n",
      " |-- i94mon: double (nullable = true)\n",
      " |-- i94cit: double (nullable = true)\n",
      " |-- i94res: double (nullable = true)\n",
      " |-- i94port: string (nullable = true)\n",
      " |-- arrdate: double (nullable = true)\n",
      " |-- i94mode: double (nullable = true)\n",
      " |-- i94addr: string (nullable = true)\n",
      " |-- depdate: double (nullable = true)\n",
      " |-- i94bir: double (nullable = true)\n",
      " |-- i94visa: double (nullable = true)\n",
      " |-- count: double (nullable = true)\n",
      " |-- dtadfile: string (nullable = true)\n",
      " |-- visapost: string (nullable = true)\n",
      " |-- occup: string (nullable = true)\n",
      " |-- entdepa: string (nullable = true)\n",
      " |-- entdepd: string (nullable = true)\n",
      " |-- entdepu: string (nullable = true)\n",
      " |-- matflag: string (nullable = true)\n",
      " |-- biryear: double (nullable = true)\n",
      " |-- dtaddto: string (nullable = true)\n",
      " |-- gender: string (nullable = true)\n",
      " |-- insnum: string (nullable = true)\n",
      " |-- airline: string (nullable = true)\n",
      " |-- admnum: double (nullable = true)\n",
      " |-- fltno: string (nullable = true)\n",
      " |-- visatype: string (nullable = true)\n",
      "\n"
     ]
    }
   ],
   "source": [
    "print(\"Immigration_table schema:\")\n",
    "df.printSchema()"
   ]
  },
  {
   "cell_type": "markdown",
   "metadata": {
    "editable": true
   },
   "source": [
    "### Spark has imported the values as double. Changed to integer"
   ]
  },
  {
   "cell_type": "code",
   "execution_count": 4,
   "metadata": {
    "editable": true
   },
   "outputs": [],
   "source": [
    "df = df \\\n",
    ".withColumn(\"cicid\", col(\"cicid\").cast(\"integer\")) \\\n",
    ".withColumn(\"year\", col(\"i94yr\").cast(\"integer\")) \\\n",
    ".drop(\"i94yr\") \\\n",
    ".withColumn(\"month\", col(\"i94mon\").cast(\"integer\")) \\\n",
    ".drop(\"i94mon\") \\\n",
    ".withColumn(\"bornCountry\", col(\"i94cit\").cast(\"integer\")) \\\n",
    ".drop(\"i94cit\") \\\n",
    ".withColumn(\"residentCountry\", col(\"i94res\").cast(\"integer\")) \\\n",
    ".drop(\"i94res\") \\\n",
    ".withColumnRenamed(\"i94port\", \"arrivalPort\") \\\n",
    ".withColumn(\"mode\", col(\"i94mode\").cast(\"integer\")) \\\n",
    ".drop(\"i94mode\") \\\n",
    ".withColumnRenamed(\"i94addr\", \"arrivalAddress\") \\\n",
    ".withColumn(\"age\", col(\"i94bir\").cast(\"integer\")) \\\n",
    ".drop(\"i94bir\") \\\n",
    ".withColumn(\"visa\", col(\"i94visa\").cast(\"integer\")) \\\n",
    ".drop(\"i94visa\") \\\n",
    ".withColumnRenamed(\"entdepa\", \"arrivalFlag\") \\\n",
    ".withColumnRenamed(\"entdepd\", \"departureFlag\") \\\n",
    ".withColumnRenamed(\"entdepu\", \"updateFlag\") \\\n",
    ".withColumnRenamed(\"matflag\", \"matchFlag\") \\\n",
    ".withColumn(\"birthYear\", col(\"biryear\").cast(\"integer\")) \\\n",
    ".drop(\"biryear\") \\\n",
    ".withColumnRenamed(\"fltno\", \"flightNumber\") \\\n",
    ".withColumnRenamed(\"visaType\", \"visaType\") \\\n",
    ".withColumn(\"sasDate\", to_date(lit(\"01/01/1960\"), \"MM/dd/yyyy\")) \\\n",
    ".withColumn(\"arrivalDate\", expr(\"date_add(sasDate, arrdate)\")) \\\n",
    ".withColumn(\"departureDate\", expr(\"date_add(sasDate, depdate)\")) \\\n",
    ".drop(\"sasDate\", \"arrdate\", \"depdate\", \"count\", \"admnum\", \"dtadfile\", \"visapost\", \"occup\", \"dtaddto\", \"insnum\")\n"
   ]
  },
  {
   "cell_type": "code",
   "execution_count": 5,
   "metadata": {
    "editable": true
   },
   "outputs": [
    {
     "name": "stdout",
     "output_type": "stream",
     "text": [
      "New Immigration data schema:\n",
      "root\n",
      " |-- cicid: integer (nullable = true)\n",
      " |-- arrivalPort: string (nullable = true)\n",
      " |-- arrivalAddress: string (nullable = true)\n",
      " |-- arrivalFlag: string (nullable = true)\n",
      " |-- departureFlag: string (nullable = true)\n",
      " |-- updateFlag: string (nullable = true)\n",
      " |-- matchFlag: string (nullable = true)\n",
      " |-- gender: string (nullable = true)\n",
      " |-- airline: string (nullable = true)\n",
      " |-- flightNumber: string (nullable = true)\n",
      " |-- visaType: string (nullable = true)\n",
      " |-- year: integer (nullable = true)\n",
      " |-- month: integer (nullable = true)\n",
      " |-- bornCountry: integer (nullable = true)\n",
      " |-- residentCountry: integer (nullable = true)\n",
      " |-- mode: integer (nullable = true)\n",
      " |-- age: integer (nullable = true)\n",
      " |-- visa: integer (nullable = true)\n",
      " |-- birthYear: integer (nullable = true)\n",
      " |-- arrivalDate: date (nullable = true)\n",
      " |-- departureDate: date (nullable = true)\n",
      "\n"
     ]
    }
   ],
   "source": [
    "print(\"New Immigration data schema:\")\n",
    "df.printSchema()"
   ]
  },
  {
   "cell_type": "markdown",
   "metadata": {
    "editable": true
   },
   "source": [
    "### Select where age is not negative, cicid is available and drop duplicates"
   ]
  },
  {
   "cell_type": "code",
   "execution_count": 6,
   "metadata": {
    "editable": true
   },
   "outputs": [],
   "source": [
    "df = df.where((col(\"age\") >= 0) & (col(\"cicid\").isNotNull())) \\\n",
    "     .dropDuplicates(['cicid'])"
   ]
  },
  {
   "cell_type": "code",
   "execution_count": 7,
   "metadata": {
    "editable": true
   },
   "outputs": [
    {
     "name": "stdout",
     "output_type": "stream",
     "text": [
      "+-----+-----------+--------------+-----------+-------------+----------+---------+------+-------+------------+--------+----+-----+-----------+---------------+----+---+----+---------+-----------+-------------+\n",
      "|cicid|arrivalPort|arrivalAddress|arrivalFlag|departureFlag|updateFlag|matchFlag|gender|airline|flightNumber|visaType|year|month|bornCountry|residentCountry|mode|age|visa|birthYear|arrivalDate|departureDate|\n",
      "+-----+-----------+--------------+-----------+-------------+----------+---------+------+-------+------------+--------+----+-----+-----------+---------------+----+---+----+---------+-----------+-------------+\n",
      "|  148|        NEW|            NY|          G|            O|      null|        M|     F|     OS|       00089|      WT|2016|    4|        103|            103|   1| 21|   2|     1995| 2016-04-01|   2016-04-08|\n",
      "|  463|        MIA|            FL|          O|            R|      null|        M|  null|     OS|       00097|      WT|2016|    4|        103|            103|   1| 25|   2|     1991| 2016-04-01|   2016-04-02|\n",
      "+-----+-----------+--------------+-----------+-------------+----------+---------+------+-------+------------+--------+----+-----+-----------+---------------+----+---+----+---------+-----------+-------------+\n",
      "only showing top 2 rows\n",
      "\n"
     ]
    }
   ],
   "source": [
    "df.show(2)"
   ]
  },
  {
   "cell_type": "code",
   "execution_count": 8,
   "metadata": {
    "editable": true
   },
   "outputs": [
    {
     "name": "stdout",
     "output_type": "stream",
     "text": [
      "(3095510, 21)\n"
     ]
    }
   ],
   "source": [
    "print((df.count(), len(df.columns)))"
   ]
  },
  {
   "cell_type": "markdown",
   "metadata": {
    "editable": true
   },
   "source": [
    "### Dimensions table"
   ]
  },
  {
   "cell_type": "code",
   "execution_count": 9,
   "metadata": {
    "editable": true
   },
   "outputs": [],
   "source": [
    "time_table = df.select(['arrivalDate'])\\\n",
    "                    .withColumnRenamed('arrivalDate','time') \n",
    "\n",
    "time_table = time_table \\\n",
    "             .withColumn('day', F.dayofmonth('time')) \\\n",
    "             .withColumn('month', F.month('time')) \\\n",
    "             .withColumn('year', F.year('time')) \\\n",
    "             .withColumn('week', F.weekofyear('time')) \\\n",
    "             .withColumn('weekday', F.dayofweek('time'))\\\n",
    "             .dropDuplicates()\n",
    "write_to_parquet(time_table,\"time_table.parquet\" )"
   ]
  },
  {
   "cell_type": "code",
   "execution_count": 10,
   "metadata": {
    "editable": true
   },
   "outputs": [
    {
     "name": "stdout",
     "output_type": "stream",
     "text": [
      "+----------+---+-----+----+----+-------+\n",
      "|      time|day|month|year|week|weekday|\n",
      "+----------+---+-----+----+----+-------+\n",
      "|2016-04-01|  1|    4|2016|  13|      6|\n",
      "|2016-04-06|  6|    4|2016|  14|      4|\n",
      "+----------+---+-----+----+----+-------+\n",
      "only showing top 2 rows\n",
      "\n"
     ]
    }
   ],
   "source": [
    "time_table.show(2)"
   ]
  },
  {
   "cell_type": "code",
   "execution_count": 11,
   "metadata": {
    "editable": true
   },
   "outputs": [
    {
     "name": "stdout",
     "output_type": "stream",
     "text": [
      "Time data schema:\n",
      "root\n",
      " |-- time: date (nullable = true)\n",
      " |-- day: integer (nullable = true)\n",
      " |-- month: integer (nullable = true)\n",
      " |-- year: integer (nullable = true)\n",
      " |-- week: integer (nullable = true)\n",
      " |-- weekday: integer (nullable = true)\n",
      "\n"
     ]
    }
   ],
   "source": [
    "print(\"Time data schema:\")\n",
    "time_table.printSchema()"
   ]
  },
  {
   "cell_type": "code",
   "execution_count": 12,
   "metadata": {
    "editable": true
   },
   "outputs": [
    {
     "name": "stdout",
     "output_type": "stream",
     "text": [
      "(30, 6)\n"
     ]
    }
   ],
   "source": [
    "print((time_table.count(), len(time_table.columns)))"
   ]
  },
  {
   "cell_type": "markdown",
   "metadata": {
    "editable": true
   },
   "source": [
    "#### Person"
   ]
  },
  {
   "cell_type": "code",
   "execution_count": 13,
   "metadata": {
    "editable": true
   },
   "outputs": [
    {
     "name": "stdout",
     "output_type": "stream",
     "text": [
      "(475, 3)\n"
     ]
    }
   ],
   "source": [
    "person_table = df.select(['birthYear','gender']) \\\n",
    "                 .dropDuplicates() \\\n",
    "                 .withColumn(\"personId\", \\\n",
    "                        monotonically_increasing_id())\n",
    "print((person_table.count(), len(person_table.columns)))"
   ]
  },
  {
   "cell_type": "code",
   "execution_count": 14,
   "metadata": {
    "editable": true
   },
   "outputs": [],
   "source": [
    "write_to_parquet(person_table,\"person_table.parquet\" )"
   ]
  },
  {
   "cell_type": "code",
   "execution_count": 15,
   "metadata": {
    "editable": true
   },
   "outputs": [
    {
     "name": "stdout",
     "output_type": "stream",
     "text": [
      "Person data schema:\n",
      "root\n",
      " |-- birthYear: integer (nullable = true)\n",
      " |-- gender: string (nullable = true)\n",
      " |-- personId: long (nullable = false)\n",
      "\n"
     ]
    }
   ],
   "source": [
    "print(\"Person data schema:\")\n",
    "person_table.printSchema()"
   ]
  },
  {
   "cell_type": "code",
   "execution_count": 16,
   "metadata": {
    "editable": true
   },
   "outputs": [
    {
     "name": "stdout",
     "output_type": "stream",
     "text": [
      "+---------+------+--------+\n",
      "|birthYear|gender|personId|\n",
      "+---------+------+--------+\n",
      "|     1959|  null|       0|\n",
      "|     2004|     F|       1|\n",
      "+---------+------+--------+\n",
      "only showing top 2 rows\n",
      "\n"
     ]
    }
   ],
   "source": [
    "person_table.show(2)"
   ]
  },
  {
   "cell_type": "code",
   "execution_count": 17,
   "metadata": {
    "editable": true
   },
   "outputs": [
    {
     "name": "stdout",
     "output_type": "stream",
     "text": [
      "(243, 2)\n"
     ]
    }
   ],
   "source": [
    "country_table = df.select('bornCountry').distinct().withColumnRenamed(\"bornCountry\", \"country\") \\\n",
    "                  .withColumn(\"countryId\", \\\n",
    "                        monotonically_increasing_id())\n",
    "                 \n",
    "print((country_table.count(), len(country_table.columns)))"
   ]
  },
  {
   "cell_type": "code",
   "execution_count": 18,
   "metadata": {
    "editable": true
   },
   "outputs": [],
   "source": [
    "write_to_parquet(country_table,\"country_table.parquet\" )"
   ]
  },
  {
   "cell_type": "code",
   "execution_count": 19,
   "metadata": {
    "editable": true
   },
   "outputs": [
    {
     "name": "stdout",
     "output_type": "stream",
     "text": [
      "Country data schema:\n",
      "root\n",
      " |-- country: integer (nullable = true)\n",
      " |-- countryId: long (nullable = false)\n",
      "\n"
     ]
    }
   ],
   "source": [
    "print(\"Country data schema:\")\n",
    "country_table.printSchema()"
   ]
  },
  {
   "cell_type": "code",
   "execution_count": 20,
   "metadata": {
    "editable": true
   },
   "outputs": [
    {
     "name": "stdout",
     "output_type": "stream",
     "text": [
      "+-------+----------+\n",
      "|country| countryId|\n",
      "+-------+----------+\n",
      "|    148|         0|\n",
      "|    392|8589934592|\n",
      "+-------+----------+\n",
      "only showing top 2 rows\n",
      "\n"
     ]
    }
   ],
   "source": [
    "country_table.show(2)"
   ]
  },
  {
   "cell_type": "markdown",
   "metadata": {
    "editable": true
   },
   "source": [
    "### Arrival Port"
   ]
  },
  {
   "cell_type": "code",
   "execution_count": 21,
   "metadata": {
    "editable": true
   },
   "outputs": [
    {
     "name": "stdout",
     "output_type": "stream",
     "text": [
      "(299, 3)\n"
     ]
    }
   ],
   "source": [
    "arrival_port_table = df.groupby('arrivalPort') \\\n",
    "                     .agg(F.countDistinct(\"arrivalAddress\")).withColumnRenamed(\"count(DISTINCT arrivalAddress)\",\"numArrivalAddress\") \\\n",
    "                     .dropna() \\\n",
    "                     .dropDuplicates()\\\n",
    "                     .withColumn(\"arrivalPortId\", \\\n",
    "                        monotonically_increasing_id())\n",
    "print((arrival_port_table.count(), len(arrival_port_table.columns)))"
   ]
  },
  {
   "cell_type": "code",
   "execution_count": 22,
   "metadata": {
    "editable": true
   },
   "outputs": [],
   "source": [
    "write_to_parquet(arrival_port_table,\"arrival_port_table.parquet\" )"
   ]
  },
  {
   "cell_type": "code",
   "execution_count": 23,
   "metadata": {
    "editable": true
   },
   "outputs": [
    {
     "name": "stdout",
     "output_type": "stream",
     "text": [
      "+-----------+-----------------+-------------+\n",
      "|arrivalPort|numArrivalAddress|arrivalPortId|\n",
      "+-----------+-----------------+-------------+\n",
      "|        FMY|               74|            0|\n",
      "|        BGM|               15|            1|\n",
      "+-----------+-----------------+-------------+\n",
      "only showing top 2 rows\n",
      "\n"
     ]
    }
   ],
   "source": [
    "arrival_port_table.show(2)"
   ]
  },
  {
   "cell_type": "code",
   "execution_count": 24,
   "metadata": {
    "editable": true
   },
   "outputs": [
    {
     "name": "stdout",
     "output_type": "stream",
     "text": [
      "Arrival Port data schema:\n",
      "root\n",
      " |-- arrivalPort: string (nullable = true)\n",
      " |-- numArrivalAddress: long (nullable = false)\n",
      " |-- arrivalPortId: long (nullable = false)\n",
      "\n"
     ]
    }
   ],
   "source": [
    "print(\"Arrival Port data schema:\")\n",
    "arrival_port_table.printSchema()"
   ]
  },
  {
   "cell_type": "markdown",
   "metadata": {
    "editable": true
   },
   "source": [
    "#### Status Flag"
   ]
  },
  {
   "cell_type": "code",
   "execution_count": 25,
   "metadata": {
    "editable": true
   },
   "outputs": [
    {
     "name": "stdout",
     "output_type": "stream",
     "text": [
      "(16, 5)\n"
     ]
    }
   ],
   "source": [
    "status_table = df.select(['arrivalFlag','departureFlag', 'updateFlag','matchFlag']) \\\n",
    "                 .dropna() \\\n",
    "               .dropDuplicates() \\\n",
    "               .withColumn(\"statusFlagId\", \\\n",
    "                        monotonically_increasing_id()) \n",
    "print((status_table.count(), len(status_table.columns))) "
   ]
  },
  {
   "cell_type": "code",
   "execution_count": 26,
   "metadata": {
    "editable": true
   },
   "outputs": [],
   "source": [
    "write_to_parquet(status_table,\"status_table.parquet\" )"
   ]
  },
  {
   "cell_type": "code",
   "execution_count": 27,
   "metadata": {
    "editable": true
   },
   "outputs": [
    {
     "name": "stdout",
     "output_type": "stream",
     "text": [
      "+-----------+-------------+----------+---------+------------+\n",
      "|arrivalFlag|departureFlag|updateFlag|matchFlag|statusFlagId|\n",
      "+-----------+-------------+----------+---------+------------+\n",
      "|          H|            O|         U|        M|120259084288|\n",
      "|          T|            O|         U|        M|146028888064|\n",
      "+-----------+-------------+----------+---------+------------+\n",
      "only showing top 2 rows\n",
      "\n"
     ]
    }
   ],
   "source": [
    "status_table.show(2)"
   ]
  },
  {
   "cell_type": "code",
   "execution_count": 28,
   "metadata": {
    "editable": true
   },
   "outputs": [
    {
     "name": "stdout",
     "output_type": "stream",
     "text": [
      "Status Flag data schema:\n",
      "root\n",
      " |-- arrivalFlag: string (nullable = true)\n",
      " |-- departureFlag: string (nullable = true)\n",
      " |-- updateFlag: string (nullable = true)\n",
      " |-- matchFlag: string (nullable = true)\n",
      " |-- statusFlagId: long (nullable = false)\n",
      "\n"
     ]
    }
   ],
   "source": [
    "print(\"Status Flag data schema:\")\n",
    "status_table.printSchema()\n"
   ]
  },
  {
   "cell_type": "markdown",
   "metadata": {
    "editable": true
   },
   "source": [
    "### Airport"
   ]
  },
  {
   "cell_type": "code",
   "execution_count": 29,
   "metadata": {
    "editable": true
   },
   "outputs": [],
   "source": [
    "airport = spark.read.format(\"csv\").option(\"header\", \"true\").option(\"delimiter\", \",\").load(\"airport-codes_csv.csv\")"
   ]
  },
  {
   "cell_type": "code",
   "execution_count": 30,
   "metadata": {
    "editable": true
   },
   "outputs": [
    {
     "name": "stdout",
     "output_type": "stream",
     "text": [
      "+-----+-------------+--------------------+------------+---------+-----------+----------+------------+--------+---------+----------+--------------------+\n",
      "|ident|         type|                name|elevation_ft|continent|iso_country|iso_region|municipality|gps_code|iata_code|local_code|         coordinates|\n",
      "+-----+-------------+--------------------+------------+---------+-----------+----------+------------+--------+---------+----------+--------------------+\n",
      "|  00A|     heliport|   Total Rf Heliport|          11|       NA|         US|     US-PA|    Bensalem|     00A|     null|       00A|-74.9336013793945...|\n",
      "| 00AA|small_airport|Aero B Ranch Airport|        3435|       NA|         US|     US-KS|       Leoti|    00AA|     null|      00AA|-101.473911, 38.7...|\n",
      "+-----+-------------+--------------------+------------+---------+-----------+----------+------------+--------+---------+----------+--------------------+\n",
      "only showing top 2 rows\n",
      "\n"
     ]
    }
   ],
   "source": [
    "airport.show(2)"
   ]
  },
  {
   "cell_type": "markdown",
   "metadata": {
    "editable": true
   },
   "source": [
    "#### Select only US, where iata_code is available and valid airport"
   ]
  },
  {
   "cell_type": "code",
   "execution_count": 31,
   "metadata": {
    "editable": true
   },
   "outputs": [],
   "source": [
    "airport =   airport \\\n",
    "            .where(\n",
    "            (col(\"iso_country\") == \"US\") & (col(\"iata_code\").isNotNull()) & (col(\"type\").isin(\"large_airport\", \"medium_airport\", \"small_airport\"))) \\\n",
    "            .withColumn(\"isoRegion\", substring(col(\"iso_region\"), 4, 2)) \\\n",
    "            .drop(\"local_code\", \"elevation_ft\", \"iso_region\", 'continent') \\\n",
    "            .dropDuplicates()"
   ]
  },
  {
   "cell_type": "code",
   "execution_count": 32,
   "metadata": {
    "editable": true
   },
   "outputs": [
    {
     "name": "stdout",
     "output_type": "stream",
     "text": [
      "Airport data schema:\n",
      "root\n",
      " |-- ident: string (nullable = true)\n",
      " |-- type: string (nullable = true)\n",
      " |-- name: string (nullable = true)\n",
      " |-- iso_country: string (nullable = true)\n",
      " |-- municipality: string (nullable = true)\n",
      " |-- gps_code: string (nullable = true)\n",
      " |-- iata_code: string (nullable = true)\n",
      " |-- coordinates: string (nullable = true)\n",
      " |-- isoRegion: string (nullable = true)\n",
      "\n"
     ]
    }
   ],
   "source": [
    "print(\"Airport data schema:\")\n",
    "airport.printSchema()"
   ]
  },
  {
   "cell_type": "code",
   "execution_count": 33,
   "metadata": {
    "editable": true
   },
   "outputs": [],
   "source": [
    "airport_table = airport.select(['ident', 'type', 'name', 'isoRegion', 'municipality','gps_code', 'iata_code','iso_country', 'coordinates']) \\\n",
    "               .dropDuplicates().dropna()\n",
    "write_to_parquet(airport_table,\"airport_table.parquet\" )"
   ]
  },
  {
   "cell_type": "code",
   "execution_count": 34,
   "metadata": {
    "editable": true
   },
   "outputs": [
    {
     "name": "stdout",
     "output_type": "stream",
     "text": [
      "+-----+--------------+--------------------+---------+------------+--------+---------+-----------+--------------------+\n",
      "|ident|          type|                name|isoRegion|municipality|gps_code|iata_code|iso_country|         coordinates|\n",
      "+-----+--------------+--------------------+---------+------------+--------+---------+-----------+--------------------+\n",
      "| KBOI| large_airport|Boise Air Termina...|       ID|       Boise|    KBOI|      BOI|         US|   -116.223, 43.5644|\n",
      "| KEVV|medium_airport|Evansville Region...|       IN|  Evansville|    KEVV|      EVV|         US|-87.5324020386, 3...|\n",
      "+-----+--------------+--------------------+---------+------------+--------+---------+-----------+--------------------+\n",
      "only showing top 2 rows\n",
      "\n"
     ]
    }
   ],
   "source": [
    "airport_table.show(2)"
   ]
  },
  {
   "cell_type": "code",
   "execution_count": 35,
   "metadata": {
    "editable": true
   },
   "outputs": [
    {
     "name": "stdout",
     "output_type": "stream",
     "text": [
      "Airport data schema:\n",
      "root\n",
      " |-- ident: string (nullable = true)\n",
      " |-- type: string (nullable = true)\n",
      " |-- name: string (nullable = true)\n",
      " |-- isoRegion: string (nullable = true)\n",
      " |-- municipality: string (nullable = true)\n",
      " |-- gps_code: string (nullable = true)\n",
      " |-- iata_code: string (nullable = true)\n",
      " |-- iso_country: string (nullable = true)\n",
      " |-- coordinates: string (nullable = true)\n",
      "\n"
     ]
    }
   ],
   "source": [
    "print(\"Airport data schema:\")\n",
    "airport_table.printSchema()"
   ]
  },
  {
   "cell_type": "markdown",
   "metadata": {
    "editable": true
   },
   "source": [
    "### Demographics Dataset"
   ]
  },
  {
   "cell_type": "code",
   "execution_count": 36,
   "metadata": {
    "editable": true
   },
   "outputs": [],
   "source": [
    "dem = spark.read.format(\"csv\").option(\"header\", \"true\").option(\"delimiter\", \";\").load(\"us-cities-demographics.csv\")"
   ]
  },
  {
   "cell_type": "code",
   "execution_count": 37,
   "metadata": {
    "editable": true
   },
   "outputs": [
    {
     "name": "stdout",
     "output_type": "stream",
     "text": [
      "Demographics data schema:\n",
      "root\n",
      " |-- City: string (nullable = true)\n",
      " |-- State: string (nullable = true)\n",
      " |-- Median Age: string (nullable = true)\n",
      " |-- Male Population: string (nullable = true)\n",
      " |-- Female Population: string (nullable = true)\n",
      " |-- Total Population: string (nullable = true)\n",
      " |-- Number of Veterans: string (nullable = true)\n",
      " |-- Foreign-born: string (nullable = true)\n",
      " |-- Average Household Size: string (nullable = true)\n",
      " |-- State Code: string (nullable = true)\n",
      " |-- Race: string (nullable = true)\n",
      " |-- Count: string (nullable = true)\n",
      "\n"
     ]
    }
   ],
   "source": [
    "print(\"Demographics data schema:\")\n",
    "dem.printSchema()"
   ]
  },
  {
   "cell_type": "markdown",
   "metadata": {
    "editable": true
   },
   "source": [
    "### Groupby and aggregrate columns"
   ]
  },
  {
   "cell_type": "code",
   "execution_count": 38,
   "metadata": {
    "editable": true
   },
   "outputs": [],
   "source": [
    "dem_table = dem \\\n",
    ".groupBy(col(\"State Code\").alias(\"stateCode\"), col(\"State\").alias(\"state\")).agg(\n",
    "round(mean('Median Age'), 2).alias(\"medianAge\"),\\\n",
    "sum(\"Total Population\").alias(\"totalPopulation\"),\\\n",
    "sum(\"Male Population\").alias(\"malePopulation\"), \\\n",
    "sum(\"Female Population\").alias(\"femalePopulation\"),\\\n",
    "sum(\"Number of Veterans\").alias(\"numberOfVeterans\"),\\\n",
    "sum(\"Foreign-born\").alias(\"foreignBorn\"), \\\n",
    "round(mean(\"Average Household Size\"),2).alias(\"averageHouseholdSize\")\n",
    ").dropna()"
   ]
  },
  {
   "cell_type": "code",
   "execution_count": 39,
   "metadata": {
    "editable": true
   },
   "outputs": [
    {
     "name": "stdout",
     "output_type": "stream",
     "text": [
      "+---------+--------------+---------+---------------+--------------+----------------+----------------+-----------+--------------------+\n",
      "|stateCode|         state|medianAge|totalPopulation|malePopulation|femalePopulation|numberOfVeterans|foreignBorn|averageHouseholdSize|\n",
      "+---------+--------------+---------+---------------+--------------+----------------+----------------+-----------+--------------------+\n",
      "|       MT|       Montana|     35.5|       906470.0|      438535.0|        467935.0|         69270.0|    29885.0|                2.27|\n",
      "|       NC|North Carolina|    33.79|    1.5300995E7|     7330525.0|       7970470.0|        830730.0|  1896635.0|                2.48|\n",
      "+---------+--------------+---------+---------------+--------------+----------------+----------------+-----------+--------------------+\n",
      "only showing top 2 rows\n",
      "\n"
     ]
    }
   ],
   "source": [
    "dem_table.show(2)"
   ]
  },
  {
   "cell_type": "code",
   "execution_count": 40,
   "metadata": {
    "editable": true
   },
   "outputs": [
    {
     "name": "stdout",
     "output_type": "stream",
     "text": [
      "New Demographics data schema:\n",
      "root\n",
      " |-- stateCode: string (nullable = true)\n",
      " |-- state: string (nullable = true)\n",
      " |-- medianAge: double (nullable = true)\n",
      " |-- totalPopulation: double (nullable = true)\n",
      " |-- malePopulation: double (nullable = true)\n",
      " |-- femalePopulation: double (nullable = true)\n",
      " |-- numberOfVeterans: double (nullable = true)\n",
      " |-- foreignBorn: double (nullable = true)\n",
      " |-- averageHouseholdSize: double (nullable = true)\n",
      "\n"
     ]
    }
   ],
   "source": [
    "print(\"New Demographics data schema:\")\n",
    "dem_table.printSchema()"
   ]
  },
  {
   "cell_type": "code",
   "execution_count": 41,
   "metadata": {
    "editable": true
   },
   "outputs": [],
   "source": [
    "write_to_parquet(dem_table,\"dem_table.parquet\" )"
   ]
  },
  {
   "cell_type": "code",
   "execution_count": 42,
   "metadata": {
    "editable": true
   },
   "outputs": [],
   "source": [
    "small_table = df.select(['cicid', 'arrivalDate','departureDate','mode','bornCountry', 'airline','flightNumber','visa','visaType',\n",
    "                         'gender','arrivalPort', 'matchFlag']) \\\n",
    "                .dropna() \\\n",
    "                .dropDuplicates(['cicid'])\n",
    "small_table = small_table.withColumnRenamed(\"arrivalDate\", \"time\")                            "
   ]
  },
  {
   "cell_type": "code",
   "execution_count": 43,
   "metadata": {
    "editable": true
   },
   "outputs": [
    {
     "name": "stdout",
     "output_type": "stream",
     "text": [
      "+-----+----------+-------------+----+-----------+-------+------------+----+--------+------+-----------+---------+---------+-----+\n",
      "|cicid|      time|departureDate|mode|bornCountry|airline|flightNumber|visa|visaType|gender|arrivalPort|matchFlag|stateCode|ident|\n",
      "+-----+----------+-------------+----+-----------+-------+------------+----+--------+------+-----------+---------+---------+-----+\n",
      "|  148|2016-04-01|   2016-04-08|   1|        103|     OS|       00089|   2|      WT|     F|        NEW|        M|       MT| KBOI|\n",
      "|  471|2016-04-01|   2016-04-03|   2|        103|    VES|       91285|   2|      WT|     M|        MIA|        M|       SC| STOB|\n",
      "|  833|2016-04-01|   2016-04-09|   1|        104|     FI|       00631|   2|      WT|     F|        BOS|        M|       MT| KVEE|\n",
      "| 1088|2016-04-01|   2016-04-08|   1|        104|     DL|       00149|   2|      WT|     F|        NEW|        M|       NY| KBOI|\n",
      "| 1238|2016-04-01|   2016-04-09|   1|        104|     AF|       00006|   2|      WT|     M|        NYC|        M|       NY| STOB|\n",
      "| 1342|2016-04-01|   2016-04-06|   1|        104|     AF|       00022|   2|      WT|     M|        DEN|        M|       NY| KVEE|\n",
      "| 1580|2016-04-01|   2016-04-10|   1|        104|     AA|       00109|   2|      WT|     F|        LOS|        M|       NY| STOB|\n",
      "| 1591|2016-04-01|   2016-04-15|   1|        104|     LH|       00456|   2|      WT|     F|        LOS|        M|       NY| KBOI|\n",
      "| 1645|2016-04-01|   2016-04-10|   1|        104|     AB|       07000|   2|      WT|     F|        MIA|        M|       NY| STOB|\n",
      "| 1829|2016-04-01|   2016-04-08|   1|        104|     OR|       00317|   2|      WT|     M|        SFB|        M|       SC| KVEE|\n",
      "| 1959|2016-04-01|   2016-04-05|   1|        104|     LX|       00022|   2|      WT|     M|        NYC|        M|       SC| KBOI|\n",
      "| 2122|2016-04-01|   2016-04-15|   1|        105|     OS|       00093|   2|      B2|     M|        WAS|        M|       NY| KVEE|\n",
      "| 2142|2016-04-01|   2016-04-12|   1|        105|     DL|       00049|   2|      B2|     M|        NYC|        M|       MT| KBOI|\n",
      "| 2866|2016-04-01|   2016-04-10|   1|        108|     SK|       00927|   1|      WB|     M|        BOS|        M|       NY| KVEE|\n",
      "| 3175|2016-04-01|   2016-04-09|   1|        108|     DY|       07011|   2|      WT|     F|        NYC|        M|       MT| KBOI|\n",
      "| 3749|2016-04-01|   2016-04-23|   1|        108|     VA|       00007|   2|      WT|     M|        LOS|        M|       MT| KBOI|\n",
      "| 4101|2016-04-01|   2016-04-09|   1|        110|     AY|       00005|   1|      WB|     F|        NYC|        M|       SC| KVEE|\n",
      "| 4519|2016-04-01|   2016-04-14|   1|        111|     AF|       00682|   2|      WT|     M|        ATL|        M|       SC| STOB|\n",
      "| 4818|2016-04-01|   2016-04-16|   1|        111|     AA|       00733|   2|      WT|     F|        CLT|        M|       SC| KVEE|\n",
      "| 4900|2016-04-01|   2016-04-08|   1|        111|     AA|       00049|   2|      WT|     M|        DAL|        M|       SC| KVEE|\n",
      "+-----+----------+-------------+----+-----------+-------+------------+----+--------+------+-----------+---------+---------+-----+\n",
      "only showing top 20 rows\n",
      "\n"
     ]
    }
   ],
   "source": [
    "small_table = small_table.withColumn('stateCode', F.array( F.lit(\"MT\"), F.lit(\"NY\"),F.lit(\"SC\"),).getItem(\n",
    "    (F.rand()*3).cast(\"int\"))) \\\n",
    "                     .withColumn(\"ident\", F.array( F.lit(\"KBOI\"), F.lit(\"KVEE\"),F.lit(\"STOB\"),).getItem(\n",
    "    (F.rand()*3).cast(\"int\"))) \\\n",
    "                .dropDuplicates()\n",
    "small_table.show()"
   ]
  },
  {
   "cell_type": "code",
   "execution_count": 44,
   "metadata": {
    "editable": true
   },
   "outputs": [
    {
     "name": "stdout",
     "output_type": "stream",
     "text": [
      "(2482042, 14)\n"
     ]
    }
   ],
   "source": [
    "print((small_table.count(), len(small_table.columns))) "
   ]
  },
  {
   "cell_type": "code",
   "execution_count": 45,
   "metadata": {
    "editable": true
   },
   "outputs": [
    {
     "name": "stdout",
     "output_type": "stream",
     "text": [
      "+-----+----------+-------------+----+-----------+-------+------------+----+--------+------+-----------+---------+-----+-------------+\n",
      "|cicid|      time|departureDate|mode|bornCountry|airline|flightNumber|visa|visaType|gender|arrivalPort|stateCode|ident| statusFlagId|\n",
      "+-----+----------+-------------+----+-----------+-------+------------+----+--------+------+-----------+---------+-----+-------------+\n",
      "|  148|2016-04-01|   2016-04-08|   1|        103|     OS|       00089|   2|      WT|     F|        NEW|       MT| KBOI|1675037245440|\n",
      "|  148|2016-04-01|   2016-04-08|   1|        103|     OS|       00089|   2|      WT|     F|        NEW|       MT| KBOI|1640677507072|\n",
      "|  148|2016-04-01|   2016-04-08|   1|        103|     OS|       00089|   2|      WT|     F|        NEW|       MT| KBOI|1632087572480|\n",
      "|  148|2016-04-01|   2016-04-08|   1|        103|     OS|       00089|   2|      WT|     F|        NEW|       MT| KBOI|1623497637888|\n",
      "|  148|2016-04-01|   2016-04-08|   1|        103|     OS|       00089|   2|      WT|     F|        NEW|       MT| KBOI|1520418422784|\n",
      "|  148|2016-04-01|   2016-04-08|   1|        103|     OS|       00089|   2|      WT|     F|        NEW|       MT| KBOI|1254130450432|\n",
      "|  148|2016-04-01|   2016-04-08|   1|        103|     OS|       00089|   2|      WT|     F|        NEW|       MT| KBOI|1228360646656|\n",
      "|  148|2016-04-01|   2016-04-08|   1|        103|     OS|       00089|   2|      WT|     F|        NEW|       MT| KBOI|1211180777472|\n",
      "|  148|2016-04-01|   2016-04-08|   1|        103|     OS|       00089|   2|      WT|     F|        NEW|       MT| KBOI| 919123001344|\n",
      "|  148|2016-04-01|   2016-04-08|   1|        103|     OS|       00089|   2|      WT|     F|        NEW|       MT| KBOI| 876173328384|\n",
      "|  148|2016-04-01|   2016-04-08|   1|        103|     OS|       00089|   2|      WT|     F|        NEW|       MT| KBOI| 712964571136|\n",
      "|  148|2016-04-01|   2016-04-08|   1|        103|     OS|       00089|   2|      WT|     F|        NEW|       MT| KBOI| 644245094400|\n",
      "|  148|2016-04-01|   2016-04-08|   1|        103|     OS|       00089|   2|      WT|     F|        NEW|       MT| KBOI| 523986010112|\n",
      "|  148|2016-04-01|   2016-04-08|   1|        103|     OS|       00089|   2|      WT|     F|        NEW|       MT| KBOI| 214748364800|\n",
      "|  148|2016-04-01|   2016-04-08|   1|        103|     OS|       00089|   2|      WT|     F|        NEW|       MT| KBOI| 146028888064|\n",
      "|  148|2016-04-01|   2016-04-08|   1|        103|     OS|       00089|   2|      WT|     F|        NEW|       MT| KBOI| 120259084288|\n",
      "|  471|2016-04-01|   2016-04-03|   2|        103|    VES|       91285|   2|      WT|     M|        MIA|       SC| STOB|1675037245440|\n",
      "|  471|2016-04-01|   2016-04-03|   2|        103|    VES|       91285|   2|      WT|     M|        MIA|       SC| STOB|1640677507072|\n",
      "|  471|2016-04-01|   2016-04-03|   2|        103|    VES|       91285|   2|      WT|     M|        MIA|       SC| STOB|1632087572480|\n",
      "|  471|2016-04-01|   2016-04-03|   2|        103|    VES|       91285|   2|      WT|     M|        MIA|       SC| STOB|1623497637888|\n",
      "+-----+----------+-------------+----+-----------+-------+------------+----+--------+------+-----------+---------+-----+-------------+\n",
      "only showing top 20 rows\n",
      "\n"
     ]
    }
   ],
   "source": [
    "small_table = small_table.join(status_table.select(['statusFlagId', 'matchFlag']), (small_table.matchFlag == status_table.matchFlag) , how = 'inner') \\\n",
    "                       .drop('matchFlag') \\\n",
    "                       .dropna() \\\n",
    "                       .dropDuplicates() \n",
    "small_table.show()"
   ]
  },
  {
   "cell_type": "code",
   "execution_count": 46,
   "metadata": {
    "editable": true
   },
   "outputs": [],
   "source": [
    "#print((small_table.count(), len(small_table.columns)))"
   ]
  },
  {
   "cell_type": "code",
   "execution_count": 47,
   "metadata": {
    "editable": true
   },
   "outputs": [
    {
     "name": "stdout",
     "output_type": "stream",
     "text": [
      "+-----+----------+-------------+----+-----------+-------+------------+----+--------+------+---------+-----+-------------+-------------+\n",
      "|cicid|      time|departureDate|mode|bornCountry|airline|flightNumber|visa|visaType|gender|stateCode|ident| statusFlagId|arrivalPortId|\n",
      "+-----+----------+-------------+----+-----------+-------+------------+----+--------+------+---------+-----+-------------+-------------+\n",
      "|  148|2016-04-01|   2016-04-08|   1|        103|     OS|       00089|   2|      WT|     F|       MT| KBOI|1675037245440| 747324309504|\n",
      "|  148|2016-04-01|   2016-04-08|   1|        103|     OS|       00089|   2|      WT|     F|       MT| KBOI|1640677507072| 747324309504|\n",
      "+-----+----------+-------------+----+-----------+-------+------------+----+--------+------+---------+-----+-------------+-------------+\n",
      "only showing top 2 rows\n",
      "\n"
     ]
    }
   ],
   "source": [
    "small_table = small_table.join(arrival_port_table.select(['arrivalPortId', 'arrivalPort']), (small_table.arrivalPort == arrival_port_table.arrivalPort) , how = 'inner') \\\n",
    "                       .drop('arrivalPort') \\\n",
    "                       .dropna() \\\n",
    "                       .dropDuplicates()\n",
    "small_table.show(2)"
   ]
  },
  {
   "cell_type": "code",
   "execution_count": 48,
   "metadata": {
    "editable": true
   },
   "outputs": [
    {
     "name": "stdout",
     "output_type": "stream",
     "text": [
      "+-----+----------+-------------+----+-------+------------+----+--------+------+---------+-----+-------------+-------------+------------+\n",
      "|cicid|      time|departureDate|mode|airline|flightNumber|visa|visaType|gender|stateCode|ident| statusFlagId|arrivalPortId|   countryId|\n",
      "+-----+----------+-------------+----+-------+------------+----+--------+------+---------+-----+-------------+-------------+------------+\n",
      "|  148|2016-04-01|   2016-04-08|   1|     OS|       00089|   2|      WT|     F|       MT| KBOI|1675037245440| 747324309504|197568495616|\n",
      "|  148|2016-04-01|   2016-04-08|   1|     OS|       00089|   2|      WT|     F|       MT| KBOI|1640677507072| 747324309504|197568495616|\n",
      "+-----+----------+-------------+----+-------+------------+----+--------+------+---------+-----+-------------+-------------+------------+\n",
      "only showing top 2 rows\n",
      "\n"
     ]
    }
   ],
   "source": [
    "small_table = small_table.join(country_table, (small_table.bornCountry == country_table.country) , how = 'inner') \\\n",
    "                         .dropna() \\\n",
    "                        .drop('bornCountry', 'country') \\\n",
    "                       .dropDuplicates()\n",
    "small_table.show(2)"
   ]
  },
  {
   "cell_type": "code",
   "execution_count": 49,
   "metadata": {
    "editable": true
   },
   "outputs": [],
   "source": [
    "i94_table = small_table.join(person_table.select(['personId', 'gender']), (small_table.gender == person_table.gender) , how = 'inner') \\\n",
    "                      .drop('gender') \\\n",
    "                      .dropna() \\\n",
    "                      .dropDuplicates()"
   ]
  },
  {
   "cell_type": "code",
   "execution_count": 50,
   "metadata": {
    "editable": true
   },
   "outputs": [
    {
     "name": "stdout",
     "output_type": "stream",
     "text": [
      "Fact Table schema:\n",
      "root\n",
      " |-- cicid: integer (nullable = true)\n",
      " |-- time: date (nullable = true)\n",
      " |-- departureDate: date (nullable = true)\n",
      " |-- mode: integer (nullable = true)\n",
      " |-- airline: string (nullable = true)\n",
      " |-- flightNumber: string (nullable = true)\n",
      " |-- visa: integer (nullable = true)\n",
      " |-- visaType: string (nullable = true)\n",
      " |-- stateCode: string (nullable = true)\n",
      " |-- ident: string (nullable = true)\n",
      " |-- statusFlagId: long (nullable = false)\n",
      " |-- arrivalPortId: long (nullable = false)\n",
      " |-- countryId: long (nullable = false)\n",
      " |-- personId: long (nullable = false)\n",
      "\n"
     ]
    }
   ],
   "source": [
    "print(\"Fact Table schema:\")\n",
    "i94_table.printSchema()"
   ]
  },
  {
   "cell_type": "code",
   "execution_count": 51,
   "metadata": {
    "editable": true
   },
   "outputs": [
    {
     "name": "stdout",
     "output_type": "stream",
     "text": [
      "+-----+----------+-------------+----+-------+------------+----+--------+---------+-----+-------------+-------------+-------------+-----------+\n",
      "|cicid|      time|departureDate|mode|airline|flightNumber|visa|visaType|stateCode|ident| statusFlagId|arrivalPortId|    countryId|   personId|\n",
      "+-----+----------+-------------+----+-------+------------+----+--------+---------+-----+-------------+-------------+-------------+-----------+\n",
      "|69637|2016-04-01|   2016-04-02|   1|     MU|       00577|   2|      B2|       MT| STOB| 120259084288|            0|1133871366144|          1|\n",
      "|69637|2016-04-01|   2016-04-02|   1|     MU|       00577|   2|      B2|       MT| STOB| 146028888064|            0|1133871366144|          1|\n",
      "|69637|2016-04-01|   2016-04-02|   1|     MU|       00577|   2|      B2|       MT| STOB| 214748364800|            0|1133871366144|          1|\n",
      "|69637|2016-04-01|   2016-04-02|   1|     MU|       00577|   2|      B2|       MT| STOB| 523986010112|            0|1133871366144|          1|\n",
      "|69637|2016-04-01|   2016-04-02|   1|     MU|       00577|   2|      B2|       MT| STOB| 644245094400|            0|1133871366144|          1|\n",
      "|69637|2016-04-01|   2016-04-02|   1|     MU|       00577|   2|      B2|       MT| STOB| 712964571136|            0|1133871366144|          1|\n",
      "|69637|2016-04-01|   2016-04-02|   1|     MU|       00577|   2|      B2|       MT| STOB| 876173328384|            0|1133871366144|          1|\n",
      "|69637|2016-04-01|   2016-04-02|   1|     MU|       00577|   2|      B2|       MT| STOB| 919123001344|            0|1133871366144|          1|\n",
      "|69637|2016-04-01|   2016-04-02|   1|     MU|       00577|   2|      B2|       MT| STOB|1211180777472|            0|1133871366144|          1|\n",
      "|69637|2016-04-01|   2016-04-02|   1|     MU|       00577|   2|      B2|       MT| STOB|1228360646656|            0|1133871366144|          1|\n",
      "|69637|2016-04-01|   2016-04-02|   1|     MU|       00577|   2|      B2|       MT| STOB|1254130450432|            0|1133871366144|          1|\n",
      "|69637|2016-04-01|   2016-04-02|   1|     MU|       00577|   2|      B2|       MT| STOB|1520418422784|            0|1133871366144|          1|\n",
      "|69637|2016-04-01|   2016-04-02|   1|     MU|       00577|   2|      B2|       MT| STOB|1623497637888|            0|1133871366144|          1|\n",
      "|69637|2016-04-01|   2016-04-02|   1|     MU|       00577|   2|      B2|       MT| STOB|1632087572480|            0|1133871366144|          1|\n",
      "|69637|2016-04-01|   2016-04-02|   1|     MU|       00577|   2|      B2|       MT| STOB|1640677507072|            0|1133871366144|          1|\n",
      "|69637|2016-04-01|   2016-04-02|   1|     MU|       00577|   2|      B2|       MT| STOB|1675037245440|            0|1133871366144|          1|\n",
      "|69637|2016-04-01|   2016-04-02|   1|     MU|       00577|   2|      B2|       MT| STOB| 120259084288|            0|1133871366144|34359738368|\n",
      "|69637|2016-04-01|   2016-04-02|   1|     MU|       00577|   2|      B2|       MT| STOB| 146028888064|            0|1133871366144|34359738368|\n",
      "|69637|2016-04-01|   2016-04-02|   1|     MU|       00577|   2|      B2|       MT| STOB| 214748364800|            0|1133871366144|34359738368|\n",
      "|69637|2016-04-01|   2016-04-02|   1|     MU|       00577|   2|      B2|       MT| STOB| 523986010112|            0|1133871366144|34359738368|\n",
      "+-----+----------+-------------+----+-------+------------+----+--------+---------+-----+-------------+-------------+-------------+-----------+\n",
      "only showing top 20 rows\n",
      "\n"
     ]
    }
   ],
   "source": [
    "i94_table.show()"
   ]
  },
  {
   "cell_type": "markdown",
   "metadata": {
    "editable": true
   },
   "source": [
    "#### Partition by day"
   ]
  },
  {
   "cell_type": "code",
   "execution_count": 52,
   "metadata": {
    "editable": true
   },
   "outputs": [],
   "source": [
    "i94_table =i94_table \\\n",
    "        .withColumn(\"arrival_date-split\", split(col(\"time\"), \"-\")) \\\n",
    "        .withColumn(\"arrivalDay\", col(\"arrival_date-split\")[2]) \\\n",
    "        .drop(\"arrival_date-split\")"
   ]
  },
  {
   "cell_type": "code",
   "execution_count": 53,
   "metadata": {
    "editable": true
   },
   "outputs": [
    {
     "data": {
      "text/plain": [
       "<bound method DataFrame.printSchema of DataFrame[cicid: int, time: date, departureDate: date, mode: int, airline: string, flightNumber: string, visa: int, visaType: string, stateCode: string, ident: string, statusFlagId: bigint, arrivalPortId: bigint, countryId: bigint, personId: bigint, arrivalDay: string]>"
      ]
     },
     "execution_count": 53,
     "metadata": {},
     "output_type": "execute_result"
    }
   ],
   "source": [
    "i94_table.printSchema"
   ]
  },
  {
   "cell_type": "code",
   "execution_count": null,
   "metadata": {
    "editable": true
   },
   "outputs": [],
   "source": [
    "i94_file_name = \"i94_table.parquet\"\n",
    "file_output = output_path + i94_file_name\n",
    "i94_table.write.mode(\"overwrite\").partitionBy(\"arrivalDay\")\\\n",
    "            .parquet(file_output)  "
   ]
  },
  {
   "cell_type": "code",
   "execution_count": null,
   "metadata": {
    "editable": true
   },
   "outputs": [],
   "source": [
    "  "
   ]
  }
 ],
 "metadata": {
  "kernelspec": {
   "display_name": "Python 3",
   "language": "python",
   "name": "python3"
  },
  "language_info": {
   "codemirror_mode": {
    "name": "ipython",
    "version": 3
   },
   "file_extension": ".py",
   "mimetype": "text/x-python",
   "name": "python",
   "nbconvert_exporter": "python",
   "pygments_lexer": "ipython3",
   "version": "3.6.3"
  }
 },
 "nbformat": 4,
 "nbformat_minor": 4
}
